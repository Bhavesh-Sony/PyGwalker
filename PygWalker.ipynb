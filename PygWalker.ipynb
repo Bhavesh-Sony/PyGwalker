{
 "cells": [
  {
   "cell_type": "code",
   "execution_count": 2,
   "id": "initial_id",
   "metadata": {
    "collapsed": true,
    "ExecuteTime": {
     "end_time": "2023-08-20T04:52:30.150145Z",
     "start_time": "2023-08-20T04:51:49.562645Z"
    }
   },
   "outputs": [
    {
     "name": "stderr",
     "output_type": "stream",
     "text": [
      "/Users/bhaveshsoni/Pygwalker/lib/python3.9/site-packages/urllib3/__init__.py:34: NotOpenSSLWarning: urllib3 v2.0 only supports OpenSSL 1.1.1+, currently the 'ssl' module is compiled with 'LibreSSL 2.8.3'. See: https://github.com/urllib3/urllib3/issues/3020\n",
      "  warnings.warn(\n"
     ]
    }
   ],
   "source": [
    "import pandas as pd\n",
    "import pygwalker as pyg"
   ]
  },
  {
   "cell_type": "code",
   "execution_count": 3,
   "outputs": [
    {
     "data": {
      "text/plain": "   total_bill   tip     sex smoker  day    time  size\n0       16.99  1.01  Female     No  Sun  Dinner     2\n1       10.34  1.66    Male     No  Sun  Dinner     3\n2       21.01  3.50    Male     No  Sun  Dinner     3\n3       23.68  3.31    Male     No  Sun  Dinner     2\n4       24.59  3.61  Female     No  Sun  Dinner     4",
      "text/html": "<div>\n<style scoped>\n    .dataframe tbody tr th:only-of-type {\n        vertical-align: middle;\n    }\n\n    .dataframe tbody tr th {\n        vertical-align: top;\n    }\n\n    .dataframe thead th {\n        text-align: right;\n    }\n</style>\n<table border=\"1\" class=\"dataframe\">\n  <thead>\n    <tr style=\"text-align: right;\">\n      <th></th>\n      <th>total_bill</th>\n      <th>tip</th>\n      <th>sex</th>\n      <th>smoker</th>\n      <th>day</th>\n      <th>time</th>\n      <th>size</th>\n    </tr>\n  </thead>\n  <tbody>\n    <tr>\n      <th>0</th>\n      <td>16.99</td>\n      <td>1.01</td>\n      <td>Female</td>\n      <td>No</td>\n      <td>Sun</td>\n      <td>Dinner</td>\n      <td>2</td>\n    </tr>\n    <tr>\n      <th>1</th>\n      <td>10.34</td>\n      <td>1.66</td>\n      <td>Male</td>\n      <td>No</td>\n      <td>Sun</td>\n      <td>Dinner</td>\n      <td>3</td>\n    </tr>\n    <tr>\n      <th>2</th>\n      <td>21.01</td>\n      <td>3.50</td>\n      <td>Male</td>\n      <td>No</td>\n      <td>Sun</td>\n      <td>Dinner</td>\n      <td>3</td>\n    </tr>\n    <tr>\n      <th>3</th>\n      <td>23.68</td>\n      <td>3.31</td>\n      <td>Male</td>\n      <td>No</td>\n      <td>Sun</td>\n      <td>Dinner</td>\n      <td>2</td>\n    </tr>\n    <tr>\n      <th>4</th>\n      <td>24.59</td>\n      <td>3.61</td>\n      <td>Female</td>\n      <td>No</td>\n      <td>Sun</td>\n      <td>Dinner</td>\n      <td>4</td>\n    </tr>\n  </tbody>\n</table>\n</div>"
     },
     "execution_count": 3,
     "metadata": {},
     "output_type": "execute_result"
    }
   ],
   "source": [
    "df = pd.read_csv(\"https://raw.githubusercontent.com/mwaskom/seaborn-data/master/tips.csv\")\n",
    "df.head()"
   ],
   "metadata": {
    "collapsed": false,
    "ExecuteTime": {
     "end_time": "2023-08-20T04:53:31.192434Z",
     "start_time": "2023-08-20T04:53:29.865956Z"
    }
   },
   "id": "7084882b8a3677dc"
  },
  {
   "cell_type": "code",
   "execution_count": 4,
   "outputs": [
    {
     "data": {
      "text/plain": "<IPython.core.display.HTML object>",
      "text/html": "\n<div style=\"\">\nIf you are using pygwalker on Jupyter Notebook(version<7) and it can't display properly, please execute code to fix it: `pip install \"pygwalker[notebook]\" --pre`.(close after 15 seconds)\n<div>\n"
     },
     "metadata": {},
     "output_type": "display_data"
    },
    {
     "data": {
      "text/plain": "Box(children=(HTML(value='<div id=\"ifr-pyg-0\" style=\"height: auto\">\\n    <head>\\n        <meta http-equiv=\"Con…",
      "application/vnd.jupyter.widget-view+json": {
       "version_major": 2,
       "version_minor": 0,
       "model_id": "39a37ae7271643879ef2a987d61e2345"
      }
     },
     "metadata": {},
     "output_type": "display_data"
    },
    {
     "data": {
      "text/plain": "<IPython.core.display.HTML object>",
      "text/html": ""
     },
     "metadata": {},
     "output_type": "display_data"
    },
    {
     "data": {
      "text/plain": "<pygwalker.api.pygwalker.PygWalker at 0x10531c370>"
     },
     "execution_count": 4,
     "metadata": {},
     "output_type": "execute_result"
    }
   ],
   "source": [
    "pyg.walk(df, dark='light')"
   ],
   "metadata": {
    "collapsed": false,
    "ExecuteTime": {
     "end_time": "2023-08-20T04:53:47.561941Z",
     "start_time": "2023-08-20T04:53:45.686806Z"
    }
   },
   "id": "e5e1ec02b700f32b"
  },
  {
   "cell_type": "code",
   "execution_count": 5,
   "outputs": [
    {
     "data": {
      "text/plain": "<IPython.core.display.HTML object>",
      "text/html": "\n<div style=\"\">\nIf you are using pygwalker on Jupyter Notebook(version<7) and it can't display properly, please execute code to fix it: `pip install \"pygwalker[notebook]\" --pre`.(close after 15 seconds)\n<div>\n"
     },
     "metadata": {},
     "output_type": "display_data"
    },
    {
     "data": {
      "text/plain": "Box(children=(HTML(value='<div id=\"ifr-pyg-1\" style=\"height: auto\">\\n    <head>\\n        <meta http-equiv=\"Con…",
      "application/vnd.jupyter.widget-view+json": {
       "version_major": 2,
       "version_minor": 0,
       "model_id": "2ea175633d174b439fed49bd983412bd"
      }
     },
     "metadata": {},
     "output_type": "display_data"
    },
    {
     "data": {
      "text/plain": "<IPython.core.display.HTML object>",
      "text/html": ""
     },
     "metadata": {},
     "output_type": "display_data"
    },
    {
     "data": {
      "text/plain": "<pygwalker.api.pygwalker.PygWalker at 0x112e4ff70>"
     },
     "execution_count": 5,
     "metadata": {},
     "output_type": "execute_result"
    }
   ],
   "source": [
    "vis_spec = r\"\"\"{\"config\":\"[{\\\"visId\\\":\\\"gw_8mf_\\\",\\\"name\\\":\\\"Chart 1\\\",\\\"encodings\\\":{\\\"dimensions\\\":[{\\\"dragId\\\":\\\"gw__G8T\\\",\\\"fid\\\":\\\"GW_6BOPIDRN\\\",\\\"name\\\":\\\"sex\\\",\\\"basename\\\":\\\"sex\\\",\\\"semanticType\\\":\\\"nominal\\\",\\\"analyticType\\\":\\\"dimension\\\"},{\\\"dragId\\\":\\\"gw_n0xj\\\",\\\"fid\\\":\\\"GW_1R6WPNO37T7P0\\\",\\\"name\\\":\\\"smoker\\\",\\\"basename\\\":\\\"smoker\\\",\\\"semanticType\\\":\\\"nominal\\\",\\\"analyticType\\\":\\\"dimension\\\"},{\\\"dragId\\\":\\\"gw_ExNQ\\\",\\\"fid\\\":\\\"GW_5I24WL6D\\\",\\\"name\\\":\\\"day\\\",\\\"basename\\\":\\\"day\\\",\\\"semanticType\\\":\\\"nominal\\\",\\\"analyticType\\\":\\\"dimension\\\"},{\\\"dragId\\\":\\\"gw_o3h0\\\",\\\"fid\\\":\\\"GW_19DCMEDB1Y\\\",\\\"name\\\":\\\"time\\\",\\\"basename\\\":\\\"time\\\",\\\"semanticType\\\":\\\"nominal\\\",\\\"analyticType\\\":\\\"dimension\\\"},{\\\"dragId\\\":\\\"gw_djr4\\\",\\\"fid\\\":\\\"GW_18ZBM3DZCN\\\",\\\"name\\\":\\\"size\\\",\\\"basename\\\":\\\"size\\\",\\\"semanticType\\\":\\\"ordinal\\\",\\\"analyticType\\\":\\\"dimension\\\"}],\\\"measures\\\":[{\\\"dragId\\\":\\\"gw_qjY0\\\",\\\"fid\\\":\\\"GW_3HRRSA0VIWPA37PHIY9\\\",\\\"name\\\":\\\"total_bill\\\",\\\"basename\\\":\\\"total_bill\\\",\\\"analyticType\\\":\\\"measure\\\",\\\"semanticType\\\":\\\"quantitative\\\",\\\"aggName\\\":\\\"sum\\\"},{\\\"dragId\\\":\\\"gw_MaNL\\\",\\\"fid\\\":\\\"GW_6DOU9KQA\\\",\\\"name\\\":\\\"tip\\\",\\\"basename\\\":\\\"tip\\\",\\\"analyticType\\\":\\\"measure\\\",\\\"semanticType\\\":\\\"quantitative\\\",\\\"aggName\\\":\\\"sum\\\"},{\\\"dragId\\\":\\\"gw_count_fid\\\",\\\"fid\\\":\\\"gw_count_fid\\\",\\\"name\\\":\\\"Row count\\\",\\\"analyticType\\\":\\\"measure\\\",\\\"semanticType\\\":\\\"quantitative\\\",\\\"aggName\\\":\\\"sum\\\",\\\"computed\\\":true,\\\"expression\\\":{\\\"op\\\":\\\"one\\\",\\\"params\\\":[],\\\"as\\\":\\\"gw_count_fid\\\"}}],\\\"rows\\\":[{\\\"dragId\\\":\\\"gw_fKYm\\\",\\\"fid\\\":\\\"GW_3HRRSA0VIWPA37PHIY9\\\",\\\"name\\\":\\\"total_bill\\\",\\\"basename\\\":\\\"total_bill\\\",\\\"analyticType\\\":\\\"measure\\\",\\\"semanticType\\\":\\\"quantitative\\\",\\\"aggName\\\":\\\"sum\\\"}],\\\"columns\\\":[{\\\"dragId\\\":\\\"gw_j2qe\\\",\\\"fid\\\":\\\"GW_1R6WPNO37T7P0\\\",\\\"name\\\":\\\"smoker\\\",\\\"basename\\\":\\\"smoker\\\",\\\"semanticType\\\":\\\"nominal\\\",\\\"analyticType\\\":\\\"dimension\\\"},{\\\"dragId\\\":\\\"gw_o9xI\\\",\\\"fid\\\":\\\"GW_5I24WL6D\\\",\\\"name\\\":\\\"day\\\",\\\"basename\\\":\\\"day\\\",\\\"semanticType\\\":\\\"nominal\\\",\\\"analyticType\\\":\\\"dimension\\\"}],\\\"color\\\":[{\\\"dragId\\\":\\\"gw_NE3p\\\",\\\"fid\\\":\\\"GW_19DCMEDB1Y\\\",\\\"name\\\":\\\"time\\\",\\\"basename\\\":\\\"time\\\",\\\"semanticType\\\":\\\"nominal\\\",\\\"analyticType\\\":\\\"dimension\\\"}],\\\"opacity\\\":[],\\\"size\\\":[],\\\"shape\\\":[],\\\"radius\\\":[],\\\"theta\\\":[],\\\"longitude\\\":[],\\\"latitude\\\":[],\\\"geoId\\\":[],\\\"details\\\":[],\\\"filters\\\":[],\\\"text\\\":[]},\\\"config\\\":{\\\"defaultAggregated\\\":true,\\\"geoms\\\":[\\\"bar\\\"],\\\"showTableSummary\\\":false,\\\"coordSystem\\\":\\\"generic\\\",\\\"stack\\\":\\\"stack\\\",\\\"showActions\\\":false,\\\"interactiveScale\\\":false,\\\"sorted\\\":\\\"none\\\",\\\"zeroScale\\\":true,\\\"scaleIncludeUnmatchedChoropleth\\\":false,\\\"size\\\":{\\\"mode\\\":\\\"auto\\\",\\\"width\\\":320,\\\"height\\\":200},\\\"format\\\":{},\\\"geoKey\\\":\\\"name\\\",\\\"resolve\\\":{\\\"x\\\":false,\\\"y\\\":false,\\\"color\\\":false,\\\"opacity\\\":false,\\\"shape\\\":false,\\\"size\\\":false},\\\"limit\\\":-1}},{\\\"visId\\\":\\\"gw_FUWX\\\",\\\"name\\\":\\\"Chart 2\\\",\\\"encodings\\\":{\\\"dimensions\\\":[{\\\"dragId\\\":\\\"gw_OmLH\\\",\\\"fid\\\":\\\"GW_6BOPIDRN\\\",\\\"name\\\":\\\"sex\\\",\\\"basename\\\":\\\"sex\\\",\\\"semanticType\\\":\\\"nominal\\\",\\\"analyticType\\\":\\\"dimension\\\"},{\\\"dragId\\\":\\\"gw_wiOn\\\",\\\"fid\\\":\\\"GW_1R6WPNO37T7P0\\\",\\\"name\\\":\\\"smoker\\\",\\\"basename\\\":\\\"smoker\\\",\\\"semanticType\\\":\\\"nominal\\\",\\\"analyticType\\\":\\\"dimension\\\"},{\\\"dragId\\\":\\\"gw_jgfQ\\\",\\\"fid\\\":\\\"GW_5I24WL6D\\\",\\\"name\\\":\\\"day\\\",\\\"basename\\\":\\\"day\\\",\\\"semanticType\\\":\\\"nominal\\\",\\\"analyticType\\\":\\\"dimension\\\"},{\\\"dragId\\\":\\\"gw_ni6b\\\",\\\"fid\\\":\\\"GW_19DCMEDB1Y\\\",\\\"name\\\":\\\"time\\\",\\\"basename\\\":\\\"time\\\",\\\"semanticType\\\":\\\"nominal\\\",\\\"analyticType\\\":\\\"dimension\\\"},{\\\"dragId\\\":\\\"gw_GS48\\\",\\\"fid\\\":\\\"GW_18ZBM3DZCN\\\",\\\"name\\\":\\\"size\\\",\\\"basename\\\":\\\"size\\\",\\\"semanticType\\\":\\\"ordinal\\\",\\\"analyticType\\\":\\\"dimension\\\"}],\\\"measures\\\":[{\\\"dragId\\\":\\\"gw_GZDm\\\",\\\"fid\\\":\\\"GW_3HRRSA0VIWPA37PHIY9\\\",\\\"name\\\":\\\"total_bill\\\",\\\"basename\\\":\\\"total_bill\\\",\\\"analyticType\\\":\\\"measure\\\",\\\"semanticType\\\":\\\"quantitative\\\",\\\"aggName\\\":\\\"sum\\\"},{\\\"dragId\\\":\\\"gw_CW-q\\\",\\\"fid\\\":\\\"GW_6DOU9KQA\\\",\\\"name\\\":\\\"tip\\\",\\\"basename\\\":\\\"tip\\\",\\\"analyticType\\\":\\\"measure\\\",\\\"semanticType\\\":\\\"quantitative\\\",\\\"aggName\\\":\\\"sum\\\"},{\\\"dragId\\\":\\\"gw_count_fid\\\",\\\"fid\\\":\\\"gw_count_fid\\\",\\\"name\\\":\\\"Row count\\\",\\\"analyticType\\\":\\\"measure\\\",\\\"semanticType\\\":\\\"quantitative\\\",\\\"aggName\\\":\\\"sum\\\",\\\"computed\\\":true,\\\"expression\\\":{\\\"op\\\":\\\"one\\\",\\\"params\\\":[],\\\"as\\\":\\\"gw_count_fid\\\"}}],\\\"rows\\\":[],\\\"columns\\\":[],\\\"color\\\":[],\\\"opacity\\\":[],\\\"size\\\":[],\\\"shape\\\":[],\\\"radius\\\":[],\\\"theta\\\":[],\\\"longitude\\\":[],\\\"latitude\\\":[],\\\"geoId\\\":[],\\\"details\\\":[],\\\"filters\\\":[],\\\"text\\\":[]},\\\"config\\\":{\\\"defaultAggregated\\\":true,\\\"geoms\\\":[\\\"auto\\\"],\\\"showTableSummary\\\":false,\\\"coordSystem\\\":\\\"generic\\\",\\\"stack\\\":\\\"stack\\\",\\\"showActions\\\":false,\\\"interactiveScale\\\":false,\\\"sorted\\\":\\\"none\\\",\\\"zeroScale\\\":true,\\\"scaleIncludeUnmatchedChoropleth\\\":false,\\\"size\\\":{\\\"mode\\\":\\\"auto\\\",\\\"width\\\":320,\\\"height\\\":200},\\\"format\\\":{},\\\"geoKey\\\":\\\"name\\\",\\\"resolve\\\":{\\\"x\\\":false,\\\"y\\\":false,\\\"color\\\":false,\\\"opacity\\\":false,\\\"shape\\\":false,\\\"size\\\":false},\\\"limit\\\":-1}}]\",\"chart_map\":{},\"version\":\"\"}\"\"\"\n",
    "pyg.walk(df, spec=vis_spec, dark='light')\n"
   ],
   "metadata": {
    "collapsed": false,
    "ExecuteTime": {
     "end_time": "2023-08-20T05:05:02.684732Z",
     "start_time": "2023-08-20T05:05:00.967479Z"
    }
   },
   "id": "6c3e6a23f6975237"
  },
  {
   "cell_type": "code",
   "execution_count": null,
   "outputs": [],
   "source": [],
   "metadata": {
    "collapsed": false
   },
   "id": "249d262082bc5748"
  }
 ],
 "metadata": {
  "kernelspec": {
   "display_name": "Python 3",
   "language": "python",
   "name": "python3"
  },
  "language_info": {
   "codemirror_mode": {
    "name": "ipython",
    "version": 2
   },
   "file_extension": ".py",
   "mimetype": "text/x-python",
   "name": "python",
   "nbconvert_exporter": "python",
   "pygments_lexer": "ipython2",
   "version": "2.7.6"
  }
 },
 "nbformat": 4,
 "nbformat_minor": 5
}
